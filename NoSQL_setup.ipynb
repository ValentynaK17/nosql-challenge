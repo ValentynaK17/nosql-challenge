{
 "cells": [
  {
   "cell_type": "markdown",
   "id": "9a57c4c6",
   "metadata": {},
   "source": [
    "# Eat Safe, Love"
   ]
  },
  {
   "cell_type": "markdown",
   "id": "064ef857",
   "metadata": {},
   "source": [
    "## Part 1: Database and Jupyter Notebook Set Up"
   ]
  },
  {
   "cell_type": "markdown",
   "id": "664e3c1f",
   "metadata": {},
   "source": [
    "Import the data provided in the **establishments.json** file from the Terminal:\n",
    " - switch to proper directory, where the respective file is saved: <br>\n",
    "   ```cd <path to the 'nosql-challenge' folder>/Resources```\n",
    " - check if the establishments.json file is there: <br>\n",
    "   e.g. ```ls``` if using Mac\n",
    " - import the data to a `uk_food` database and `establishments` collection, dropping any `establishments` collection if such already exists: <br>\n",
    "    ```mongoimport --type json -d uk_food -c establishments --drop --jsonArray establishments.json```"
   ]
  },
  {
   "cell_type": "code",
   "execution_count": 1,
   "id": "e14795d1",
   "metadata": {},
   "outputs": [],
   "source": [
    "# Create the function for checking if all the data (which are not \"None\") under key <el_key> have type <el_type> within the collection variable <collection_v>\n",
    "def check_if_converted(collection_v,el_key,el_type):\n",
    "    type_e = collection_v.count_documents({\"$and\":[{el_key:{\"$type\": el_type}},\n",
    "                                                   {el_key:{\"$exists\": True}},\n",
    "                                                   {el_key:{\"$ne\":None}}]})\n",
    "    existing_e = collection_v.count_documents({\"$and\":[{el_key: {\"$exists\": True}},\n",
    "                                                       {el_key:{\"$ne\":None}}]})\n",
    "    if type_e==existing_e: print(f\"All '{el_key}' are converted to a '{el_type}' type.\")\n",
    "    else: \n",
    "        print(f\"There are documents with '{el_key}' not converted to a '{el_type}' type.\")\n",
    "    print(f\" -- details: there {type_e} '{el_key}' elements with proper type out of {existing_e} existing '{el_key}' elements, which are not None. \\n\")"
   ]
  },
  {
   "cell_type": "code",
   "execution_count": 2,
   "id": "3ecdd008",
   "metadata": {},
   "outputs": [],
   "source": [
    "# Import dependencies\n",
    "from pymongo import MongoClient\n",
    "from pprint import pprint\n",
    "import pandas as pd"
   ]
  },
  {
   "cell_type": "code",
   "execution_count": 3,
   "id": "59390c4a",
   "metadata": {},
   "outputs": [],
   "source": [
    "# Create an instance of MongoClient\n",
    "mongo = MongoClient(port=27017)"
   ]
  },
  {
   "cell_type": "code",
   "execution_count": 4,
   "id": "7f9ececa",
   "metadata": {},
   "outputs": [
    {
     "data": {
      "text/plain": [
       "['admin', 'config', 'local', 'met', 'uk_food']"
      ]
     },
     "execution_count": 4,
     "metadata": {},
     "output_type": "execute_result"
    }
   ],
   "source": [
    "# confirm that our new database was created\n",
    "mongo.list_database_names()"
   ]
  },
  {
   "cell_type": "code",
   "execution_count": 5,
   "id": "71e373c1",
   "metadata": {},
   "outputs": [],
   "source": [
    "# assign the uk_food database to a variable name\n",
    "db = mongo['uk_food']"
   ]
  },
  {
   "cell_type": "code",
   "execution_count": 6,
   "id": "ef1b89ed",
   "metadata": {},
   "outputs": [
    {
     "data": {
      "text/plain": [
       "['establishments']"
      ]
     },
     "execution_count": 6,
     "metadata": {},
     "output_type": "execute_result"
    }
   ],
   "source": [
    "# review the collections in our new database\n",
    "db.list_collection_names()"
   ]
  },
  {
   "cell_type": "code",
   "execution_count": 7,
   "id": "18ab463c",
   "metadata": {},
   "outputs": [],
   "source": [
    "# assign the collection to a variable\n",
    "establishments=db[\"establishments\"]"
   ]
  },
  {
   "cell_type": "code",
   "execution_count": 8,
   "id": "6a0d92df",
   "metadata": {},
   "outputs": [
    {
     "name": "stdout",
     "output_type": "stream",
     "text": [
      "{'AddressLine1': 'The Bay',\n",
      " 'AddressLine2': 'St Margarets Bay',\n",
      " 'AddressLine3': 'Kent',\n",
      " 'AddressLine4': '',\n",
      " 'BusinessName': 'Refreshment Kiosk',\n",
      " 'BusinessType': 'Restaurant/Cafe/Canteen',\n",
      " 'BusinessTypeID': 1,\n",
      " 'ChangesByServerID': 0,\n",
      " 'Distance': 4587.347174863443,\n",
      " 'FHRSID': 254719,\n",
      " 'LocalAuthorityBusinessID': 'PI/000069980',\n",
      " 'LocalAuthorityCode': '182',\n",
      " 'LocalAuthorityEmailAddress': 'publicprotection@dover.gov.uk',\n",
      " 'LocalAuthorityName': 'Dover',\n",
      " 'LocalAuthorityWebSite': 'http://www.dover.gov.uk/',\n",
      " 'NewRatingPending': False,\n",
      " 'Phone': '',\n",
      " 'PostCode': 'CT15 6DY',\n",
      " 'RatingDate': '2022-03-24T00:00:00',\n",
      " 'RatingKey': 'fhrs_5_en-gb',\n",
      " 'RatingValue': '5',\n",
      " 'RightToReply': '',\n",
      " 'SchemeType': 'FHRS',\n",
      " '_id': ObjectId('655912fb7249374d19037347'),\n",
      " 'geocode': {'latitude': '51.152225', 'longitude': '1.387974'},\n",
      " 'links': [{'href': 'https://api.ratings.food.gov.uk/establishments/254719',\n",
      "            'rel': 'self'}],\n",
      " 'meta': {'dataSource': None,\n",
      "          'extractDate': '0001-01-01T00:00:00',\n",
      "          'itemCount': 0,\n",
      "          'pageNumber': 0,\n",
      "          'pageSize': 0,\n",
      "          'returncode': None,\n",
      "          'totalCount': 0,\n",
      "          'totalPages': 0},\n",
      " 'scores': {'ConfidenceInManagement': 5, 'Hygiene': 0, 'Structural': 5}}\n"
     ]
    }
   ],
   "source": [
    "# review a document in the establishments collection\n",
    "pprint(establishments.find_one({}))"
   ]
  },
  {
   "cell_type": "markdown",
   "id": "d5671434",
   "metadata": {},
   "source": [
    "## Part 2: Update the Database"
   ]
  },
  {
   "cell_type": "markdown",
   "id": "314bd884",
   "metadata": {},
   "source": [
    "1. An exciting new halal restaurant just opened in Greenwich, but hasn't been rated yet. The magazine has asked you to include it in your analysis. Add the following restaurant \"Penang Flavours\" to the database."
   ]
  },
  {
   "cell_type": "code",
   "execution_count": 9,
   "id": "c2da7648",
   "metadata": {},
   "outputs": [],
   "source": [
    "# Create a dictionary for the new restaurant data\n",
    "new_document={\"BusinessName\":\"Penang Flavours\",\n",
    "              \"BusinessType\":\"Restaurant/Cafe/Canteen\",\n",
    "              \"BusinessTypeID\":\"\",\n",
    "              \"AddressLine1\":\"Penang Flavours\",\n",
    "              \"AddressLine2\":\"146A Plumstead Rd\",\n",
    "              \"AddressLine3\":\"London\",\n",
    "              \"AddressLine4\":\"\",\n",
    "              \"PostCode\":\"SE18 7DY\",\n",
    "              \"Phone\":\"\",\n",
    "              \"LocalAuthorityCode\":\"511\",\n",
    "              \"LocalAuthorityName\":\"Greenwich\",\n",
    "              \"LocalAuthorityWebSite\":\"http://www.royalgreenwich.gov.uk\",\n",
    "              \"LocalAuthorityEmailAddress\":\"health@royalgreenwich.gov.uk\",\n",
    "              \"scores\":{\n",
    "                  \"Hygiene\":\"\",\n",
    "                  \"Structural\":\"\",\n",
    "                  \"ConfidenceInManagement\":\"\"\n",
    "              },\n",
    "              \"SchemeType\":\"FHRS\",\n",
    "              \"geocode\":{\n",
    "                  \"longitude\":\"0.08384000\", \n",
    "                  \"latitude\":\"51.49014200\"\n",
    "              },\n",
    "              \"RightToReply\":\"\",\n",
    "              \"Distance\":4623.9723280747176,\n",
    "              \"NewRatingPending\":True\n",
    "             }"
   ]
  },
  {
   "cell_type": "code",
   "execution_count": 10,
   "id": "a6e5cece",
   "metadata": {},
   "outputs": [
    {
     "data": {
      "text/plain": [
       "InsertOneResult(ObjectId('6559130b8a265ab797fdc398'), acknowledged=True)"
      ]
     },
     "execution_count": 10,
     "metadata": {},
     "output_type": "execute_result"
    }
   ],
   "source": [
    "# Insert the new restaurant into the collection\n",
    "establishments.insert_one(new_document)"
   ]
  },
  {
   "cell_type": "code",
   "execution_count": 11,
   "id": "63bb10f9",
   "metadata": {},
   "outputs": [
    {
     "name": "stdout",
     "output_type": "stream",
     "text": [
      "{'AddressLine1': 'Penang Flavours',\n",
      " 'AddressLine2': '146A Plumstead Rd',\n",
      " 'AddressLine3': 'London',\n",
      " 'AddressLine4': '',\n",
      " 'BusinessName': 'Penang Flavours',\n",
      " 'BusinessType': 'Restaurant/Cafe/Canteen',\n",
      " 'BusinessTypeID': '',\n",
      " 'Distance': 4623.972328074718,\n",
      " 'LocalAuthorityCode': '511',\n",
      " 'LocalAuthorityEmailAddress': 'health@royalgreenwich.gov.uk',\n",
      " 'LocalAuthorityName': 'Greenwich',\n",
      " 'LocalAuthorityWebSite': 'http://www.royalgreenwich.gov.uk',\n",
      " 'NewRatingPending': True,\n",
      " 'Phone': '',\n",
      " 'PostCode': 'SE18 7DY',\n",
      " 'RightToReply': '',\n",
      " 'SchemeType': 'FHRS',\n",
      " '_id': ObjectId('6559130b8a265ab797fdc398'),\n",
      " 'geocode': {'latitude': '51.49014200', 'longitude': '0.08384000'},\n",
      " 'scores': {'ConfidenceInManagement': '', 'Hygiene': '', 'Structural': ''}}\n"
     ]
    }
   ],
   "source": [
    "# Check that the new restaurant was inserted\n",
    "pprint(establishments.find_one({\"BusinessName\":\"Penang Flavours\"}))"
   ]
  },
  {
   "cell_type": "markdown",
   "id": "0ef4395a",
   "metadata": {},
   "source": [
    "2. Find the BusinessTypeID for \"Restaurant/Cafe/Canteen\" and return only the `BusinessTypeID` and `BusinessType` fields."
   ]
  },
  {
   "cell_type": "code",
   "execution_count": 12,
   "id": "93c63829",
   "metadata": {},
   "outputs": [
    {
     "name": "stdout",
     "output_type": "stream",
     "text": [
      "{'BusinessType': 'Restaurant/Cafe/Canteen', 'BusinessTypeID': 1}\n"
     ]
    }
   ],
   "source": [
    "# Find the BusinessTypeID for \"Restaurant/Cafe/Canteen\" and return only the BusinessTypeID and BusinessType fields\n",
    "query={\"BusinessType\":\"Restaurant/Cafe/Canteen\"}\n",
    "fields={\"BusinessTypeID\":1, \"BusinessType\":1, \"_id\":0}\n",
    "pprint(establishments.find_one(query, fields))"
   ]
  },
  {
   "cell_type": "markdown",
   "id": "4e570caf",
   "metadata": {},
   "source": [
    "3. Update the new restaurant with the `BusinessTypeID` you found."
   ]
  },
  {
   "cell_type": "code",
   "execution_count": 13,
   "id": "7f599f3d",
   "metadata": {},
   "outputs": [
    {
     "data": {
      "text/plain": [
       "UpdateResult({'n': 1, 'nModified': 1, 'ok': 1.0, 'updatedExisting': True}, acknowledged=True)"
      ]
     },
     "execution_count": 13,
     "metadata": {},
     "output_type": "execute_result"
    }
   ],
   "source": [
    "# Update the new restaurant with the correct BusinessTypeID\n",
    "rcc_business_type_id=establishments.find_one(query, fields)['BusinessTypeID']\n",
    "establishments.update_one({\"BusinessName\":\"Penang Flavours\",\n",
    "                           \"geocode\":{\"longitude\":\"0.08384000\",\"latitude\":\"51.49014200\"}}, #added geocode, as it identifies new restaurant more uniquely\n",
    "                          {\"$set\":{\"BusinessTypeID\":rcc_business_type_id}})"
   ]
  },
  {
   "cell_type": "code",
   "execution_count": 14,
   "id": "a6ad16f7",
   "metadata": {},
   "outputs": [
    {
     "name": "stdout",
     "output_type": "stream",
     "text": [
      "Update successful: The Business 'Penang Flavours' has BusinessTypeID value equal to 1\n"
     ]
    }
   ],
   "source": [
    "# Confirm that the new restaurant was updated\n",
    "penang_flavours_count=establishments.count_documents({\"BusinessName\":\"Penang Flavours\"})\n",
    "if penang_flavours_count==1:\n",
    "    penang_flavours=establishments.find_one({\"BusinessName\":\"Penang Flavours\"})\n",
    "    penang_flavours_type=penang_flavours['BusinessTypeID']\n",
    "    penang_flavours_name=penang_flavours['BusinessName']\n",
    "    if penang_flavours_type==1:\n",
    "        print(f\"Update successful: The Business '{penang_flavours_name}' has BusinessTypeID value equal to {penang_flavours_type}\")\n",
    "    else: print(\"Issue: still wrong Business Type for {penang_flavours_name}\")\n",
    "elif penang_flavours_count>1: print(\"seems that extra record was added, instead of update\")\n",
    "else: print(\"record disappeared\")"
   ]
  },
  {
   "cell_type": "markdown",
   "id": "67281254",
   "metadata": {},
   "source": [
    "4. The magazine is not interested in any establishments in Dover, so check how many documents contain the Dover Local Authority. Then, remove any establishments within the Dover Local Authority from the database, and check the number of documents to ensure they were deleted."
   ]
  },
  {
   "cell_type": "code",
   "execution_count": 15,
   "id": "768474a6",
   "metadata": {},
   "outputs": [
    {
     "data": {
      "text/plain": [
       "994"
      ]
     },
     "execution_count": 15,
     "metadata": {},
     "output_type": "execute_result"
    }
   ],
   "source": [
    "# Find how many documents have LocalAuthorityName as \"Dover\"\n",
    "dover_like_documents_count=establishments.count_documents({\"LocalAuthorityName\":{\"$regex\":\"Dover\"}}) #looking for all the documents with LocalAuthorityName consisting from %Dover%, even though it seems that all of them have actually \"Dover\" one, but not the variations\n",
    "dover_like_documents_count"
   ]
  },
  {
   "cell_type": "code",
   "execution_count": 16,
   "id": "2e58945f",
   "metadata": {},
   "outputs": [
    {
     "data": {
      "text/plain": [
       "39780"
      ]
     },
     "execution_count": 16,
     "metadata": {},
     "output_type": "execute_result"
    }
   ],
   "source": [
    "# Find how many documents we have in our collection\n",
    "initial_documents_count=establishments.count_documents({})\n",
    "initial_documents_count"
   ]
  },
  {
   "cell_type": "code",
   "execution_count": 17,
   "id": "a11d5f1b",
   "metadata": {},
   "outputs": [
    {
     "data": {
      "text/plain": [
       "DeleteResult({'n': 994, 'ok': 1.0}, acknowledged=True)"
      ]
     },
     "execution_count": 17,
     "metadata": {},
     "output_type": "execute_result"
    }
   ],
   "source": [
    "# Delete all documents where LocalAuthorityName is \"Dover\"\n",
    "establishments.delete_many({\"LocalAuthorityName\":{\"$regex\":\"Dover\"}})"
   ]
  },
  {
   "cell_type": "code",
   "execution_count": 18,
   "id": "5ccf3e8b",
   "metadata": {},
   "outputs": [
    {
     "name": "stdout",
     "output_type": "stream",
     "text": [
      "Proper amount of documents was deleted. Now we have 38786 documents.\n"
     ]
    }
   ],
   "source": [
    "#Check if proper amount of documents left, having in mind the count of documents with \"Dover\" in LocalAuthorityName\n",
    "diff=initial_documents_count-dover_like_documents_count\n",
    "\n",
    "if establishments.count_documents({})==diff: print(f\"Proper amount of documents was deleted. Now we have {diff} documents.\")\n",
    "else: print(\"Wrong amount of documents deleted.\")    "
   ]
  },
  {
   "cell_type": "code",
   "execution_count": 19,
   "id": "2a51aba0",
   "metadata": {},
   "outputs": [
    {
     "name": "stdout",
     "output_type": "stream",
     "text": [
      "No documents with LocalAuthorityName like 'Dover' anymore.\n"
     ]
    }
   ],
   "source": [
    "# Check if any remaining documents include Dover\n",
    "if establishments.find_one({\"LocalAuthorityName\":{\"$regex\":\"Dover\"}})==None:\n",
    "    print(\"No documents with LocalAuthorityName like 'Dover' anymore.\")\n",
    "else: print(\"There are still documents with LocalAuthorityName like 'Dover'.\")"
   ]
  },
  {
   "cell_type": "code",
   "execution_count": 20,
   "id": "8c356f7b",
   "metadata": {},
   "outputs": [
    {
     "name": "stdout",
     "output_type": "stream",
     "text": [
      "At least one document still exists in the collection!\n"
     ]
    }
   ],
   "source": [
    "# Check that other documents remain with 'find_one'\n",
    "if establishments.find_one()!= None: print(\"At least one document still exists in the collection!\")\n",
    "else: print(\"Collection is empty!\")    \n"
   ]
  },
  {
   "cell_type": "markdown",
   "id": "e9f1662d",
   "metadata": {},
   "source": [
    "5. Some of the number values are stored as strings, when they should be stored as numbers."
   ]
  },
  {
   "cell_type": "markdown",
   "id": "c46df2df",
   "metadata": {},
   "source": [
    "Use `update_many` to convert `latitude` and `longitude` to decimal numbers."
   ]
  },
  {
   "cell_type": "code",
   "execution_count": 21,
   "id": "fd4112ce",
   "metadata": {},
   "outputs": [
    {
     "name": "stdout",
     "output_type": "stream",
     "text": [
      "Data types were updated successfully.\n"
     ]
    }
   ],
   "source": [
    "# Change the data type from String to Decimal for longitude and latitude\n",
    "# Check if the above data is convertable and if so convert\n",
    "temp=[i[\"geocode\"] for i in establishments.find({},{\"geocode.latitude\":1,\"geocode.longitude\":1, \"_id\":0})]\n",
    "is_convertable=True\n",
    "try: \n",
    "    pd.DataFrame(temp).astype(\"float64\")\n",
    "except: \n",
    "    is_convertable=False\n",
    "    print(\"There are issues with data. Please, investigate and adjust the data before convert.\")\n",
    "\n",
    "if is_convertable:\n",
    "    establishments.update_many({},\n",
    "    [{\n",
    "        \"$set\": {\"geocode.latitude\": {\"$convert\": { \"input\": \"$geocode.latitude\", \"to\": \"decimal\"}},\n",
    "                \"geocode.longitude\": {\"$convert\": { \"input\": \"$geocode.longitude\", \"to\": \"decimal\"}}}\n",
    "    }])\n",
    "    print(\"Data types were updated successfully.\")"
   ]
  },
  {
   "cell_type": "markdown",
   "id": "142e319c",
   "metadata": {},
   "source": [
    "Use `update_many` to convert `RatingValue` to integer numbers."
   ]
  },
  {
   "cell_type": "code",
   "execution_count": 22,
   "id": "04430a5b",
   "metadata": {},
   "outputs": [
    {
     "data": {
      "text/plain": [
       "['AwaitingInspection',\n",
       " 'Exempt',\n",
       " '0',\n",
       " 'AwaitingPublication',\n",
       " 'Awaiting Inspection',\n",
       " 'Pass']"
      ]
     },
     "execution_count": 22,
     "metadata": {},
     "output_type": "execute_result"
    }
   ],
   "source": [
    "# Find all the non 1-5 Rating Values\n",
    "non_ratings=[]\n",
    "for i in establishments.find({\"RatingValue\":{\"$exists\":True}},{\"RatingValue\":1, \"_id\":0}):\n",
    "    if i[\"RatingValue\"] not in [\"1\",\"2\",\"3\",\"4\",\"5\"]: non_ratings.append(i[\"RatingValue\"])\n",
    "non_ratings=list(pd.unique(non_ratings))\n",
    "non_ratings"
   ]
  },
  {
   "cell_type": "code",
   "execution_count": 23,
   "id": "21b72a88",
   "metadata": {},
   "outputs": [
    {
     "data": {
      "text/plain": [
       "UpdateResult({'n': 4156, 'nModified': 4156, 'ok': 1.0, 'updatedExisting': True}, acknowledged=True)"
      ]
     },
     "execution_count": 23,
     "metadata": {},
     "output_type": "execute_result"
    }
   ],
   "source": [
    "# Set non 1-5 Rating Values to Null\n",
    "establishments.update_many({\"RatingValue\": {\"$in\": non_ratings}}, \n",
    "                           [ {'$set':{ \"RatingValue\" : None}} ])"
   ]
  },
  {
   "cell_type": "code",
   "execution_count": 24,
   "id": "92524ccc",
   "metadata": {},
   "outputs": [
    {
     "data": {
      "text/plain": [
       "UpdateResult({'n': 38786, 'nModified': 34630, 'ok': 1.0, 'updatedExisting': True}, acknowledged=True)"
      ]
     },
     "execution_count": 24,
     "metadata": {},
     "output_type": "execute_result"
    }
   ],
   "source": [
    "# Change the data type from String to Integer for RatingValue\n",
    "establishments.update_many({},\n",
    "    [{\n",
    "        \"$set\": {\"RatingValue\": {\"$convert\": { \"input\": \"$RatingValue\", \"to\": \"int\"}}}\n",
    "    }])"
   ]
  },
  {
   "cell_type": "code",
   "execution_count": 25,
   "id": "0deacaf9",
   "metadata": {},
   "outputs": [
    {
     "name": "stdout",
     "output_type": "stream",
     "text": [
      "All 'geocode.latitude' are converted to a 'decimal' type.\n",
      " -- details: there 38786 'geocode.latitude' elements with proper type out of 38786 existing 'geocode.latitude' elements, which are not None. \n",
      "\n",
      "All 'geocode.longitude' are converted to a 'decimal' type.\n",
      " -- details: there 38786 'geocode.longitude' elements with proper type out of 38786 existing 'geocode.longitude' elements, which are not None. \n",
      "\n",
      "All 'RatingValue' are converted to a 'int' type.\n",
      " -- details: there 34629 'RatingValue' elements with proper type out of 34629 existing 'RatingValue' elements, which are not None. \n",
      "\n"
     ]
    }
   ],
   "source": [
    "# Check that the coordinates and rating value are now numbers\n",
    "check_if_converted(establishments,\"geocode.latitude\",\"decimal\")\n",
    "check_if_converted(establishments,\"geocode.longitude\",\"decimal\")\n",
    "check_if_converted(establishments,\"RatingValue\",\"int\")\n",
    "\n"
   ]
  },
  {
   "cell_type": "markdown",
   "id": "8680668b",
   "metadata": {},
   "source": [
    "All data are converted properly. Note, that there are 34629 values within 'RatingValue', which are not None, and there are 34630 updated, when changing data type to integer. The one which makes the difference is new record for \"BusinessName\":\"Penang Flavours\", that was entered without rating value and updated by ading the field, during data type update, with None value."
   ]
  }
 ],
 "metadata": {
  "kernelspec": {
   "display_name": "Python 3 (ipykernel)",
   "language": "python",
   "name": "python3"
  },
  "language_info": {
   "codemirror_mode": {
    "name": "ipython",
    "version": 3
   },
   "file_extension": ".py",
   "mimetype": "text/x-python",
   "name": "python",
   "nbconvert_exporter": "python",
   "pygments_lexer": "ipython3",
   "version": "3.11.5"
  }
 },
 "nbformat": 4,
 "nbformat_minor": 5
}
